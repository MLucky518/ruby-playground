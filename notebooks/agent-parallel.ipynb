{
 "cells": [
  {
   "cell_type": "markdown",
   "metadata": {},
   "source": [
    "# Ruby OpenAI Agent Parallel Processing Example\n",
    "\n",
    "This notebook demonstrates how to create multiple OpenAI agents and run them in parallel using the `async` gem."
   ]
  },
  {
   "cell_type": "markdown",
   "metadata": {},
   "source": [
    "## 1. Define the Agent Class\n",
    "\n",
    "First, let's define a simple Agent class that will handle interactions with the OpenAI API."
   ]
  },
  {
   "cell_type": "code",
   "execution_count": 1,
   "metadata": {},
   "outputs": [
    {
     "data": {
      "text/plain": [
       ":run"
      ]
     },
     "execution_count": 1,
     "metadata": {},
     "output_type": "execute_result"
    }
   ],
   "source": [
    "class Agent\n",
    "  attr_reader :name, :instructions, :model\n",
    "\n",
    "  def initialize(name:, instructions:, model: \"gpt-4o\")\n",
    "    @name = name\n",
    "    @instructions = instructions\n",
    "    @model = model\n",
    "  end\n",
    "\n",
    "  def run(message, client)\n",
    "    prompt = [\n",
    "      { role: \"system\", content: instructions },\n",
    "      { role: \"user\", content: message }\n",
    "    ]\n",
    "\n",
    "    response = client.chat(\n",
    "      parameters: {\n",
    "        model: model,\n",
    "        messages: prompt\n",
    "      }\n",
    "    )\n",
    "\n",
    "    response.dig(\"choices\", 0, \"message\", \"content\")\n",
    "  end\n",
    "end"
   ]
  },
  {
   "cell_type": "markdown",
   "metadata": {},
   "source": [
    "## 2. Create Different Agent Personalities\n",
    "\n",
    "Now, let's create three different agents with unique personalities."
   ]
  },
  {
   "cell_type": "code",
   "execution_count": 2,
   "metadata": {},
   "outputs": [
    {
     "name": "stdout",
     "output_type": "stream",
     "text": [
      "Created agent: Professional Sales Agent using model gpt-4o-mini\n",
      "Created agent: Engaging Sales Agent using model gpt-4o-mini\n",
      "Created agent: Busy Sales Agent using model gpt-4o-mini\n"
     ]
    },
    {
     "data": {
      "text/plain": [
       "[#<#<Class:0x00007fb278326ea0>::Agent:0x00007fb278a48a30 @name=\"Professional Sales Agent\", @instructions=\"You are a very professional B2B salesperson who avoids jokes.\", @model=\"gpt-4o-mini\">, #<#<Class:0x00007fb278326ea0>::Agent:0x00007fb278a48800 @name=\"Engaging Sales Agent\", @instructions=\"You are a playful, friendly salesperson who uses emoji and casual tone.\", @model=\"gpt-4o-mini\">, #<#<Class:0x00007fb278326ea0>::Agent:0x00007fb278a485d0 @name=\"Busy Sales Agent\", @instructions=\"You respond with short, curt responses because you are extremely busy.\", @model=\"gpt-4o-mini\">]"
      ]
     },
     "execution_count": 2,
     "metadata": {},
     "output_type": "execute_result"
    }
   ],
   "source": [
    "require \"openai\"\n",
    "require \"async\"\n",
    "\n",
    "# Initialize the OpenAI client with the API key from environment variables\n",
    "client = OpenAI::Client.new(access_token: ENV[\"OPENAI_API_KEY\"])\n",
    "\n",
    "# Create three different agent personalities\n",
    "agent1 = Agent.new(\n",
    "  name: \"Professional Sales Agent\",\n",
    "  instructions: \"You are a very professional B2B salesperson who avoids jokes.\",\n",
    "  model: \"gpt-4o-mini\"\n",
    ")\n",
    "\n",
    "agent2 = Agent.new(\n",
    "  name: \"Engaging Sales Agent\",\n",
    "  instructions: \"You are a playful, friendly salesperson who uses emoji and casual tone.\",\n",
    "  model: \"gpt-4o-mini\"\n",
    ")\n",
    "\n",
    "agent3 = Agent.new(\n",
    "  name: \"Busy Sales Agent\",\n",
    "  instructions: \"You respond with short, curt responses because you are extremely busy.\",\n",
    "  model: \"gpt-4o-mini\"\n",
    ")\n",
    "\n",
    "agents = [agent1, agent2, agent3]\n",
    "\n",
    "agents.each do |agent|\n",
    "  puts \"Created agent: #{agent.name} using model #{agent.model}\"\n",
    "end"
   ]
  },
  {
   "cell_type": "markdown",
   "metadata": {},
   "source": [
    "## 3. Run Agents in Parallel\n",
    "\n",
    "Now, let's run all three agents in parallel using the `async` gem to generate sales emails."
   ]
  },
  {
   "cell_type": "code",
   "execution_count": 3,
   "metadata": {},
   "outputs": [
    {
     "name": "stdout",
     "output_type": "stream",
     "text": [
      "=== Professional Sales Agent ===\n",
      "Subject: Transform Your Operations with Our New AI Tool\n",
      "\n",
      "Dear [Recipient's Name],\n",
      "\n",
      "I hope this message finds you well.\n",
      "\n",
      "I am reaching out to introduce our latest AI tool, designed specifically to enhance operational efficiency and support data-driven decision-making for businesses like yours.\n",
      "\n",
      "Our solution leverages advanced algorithms to streamline workflows, reduce manual processes, and improve accuracy in data analysis. Here are some key features:\n",
      "\n",
      "- **Automation of Routine Tasks**: Save time and resources by automating repetitive tasks, allowing your team to focus on strategic initiatives.\n",
      "- **Data Insights**: Gain actionable insights from your data in real-time, enabling more informed decision-making.\n",
      "- **Scalability**: Our tool is designed to grow with your business, adapting to increasing demands without compromising performance.\n",
      "\n",
      "We understand that integrating new technology can be challenging, which is why we offer comprehensive support during the onboarding process to ensure a smooth transition.\n",
      "\n",
      "I would appreciate the opportunity to discuss how our AI tool can address your specific challenges and contribute to your business goals. Are you available for a brief call later this week?\n",
      "\n",
      "Thank you for considering this opportunity. I look forward to your response.\n",
      "\n",
      "Best regards,\n",
      "\n",
      "[Your Name]  \n",
      "[Your Job Title]  \n",
      "[Your Company]  \n",
      "[Your Phone Number]  \n",
      "[Your Email Address]  \n",
      "\n",
      "=== Engaging Sales Agent ===\n",
      "Subject: 🚀 Meet Your New AI Sidekick!\n",
      "\n",
      "Hey there! 👋\n",
      "\n",
      "I hope this message finds you in good spirits! 🌟\n",
      "\n",
      "I’m super excited to introduce you to our latest creation: an AI tool that’s here to revolutionize the way you work! Imagine having a super-smart assistant right by your side, ready to tackle those tedious tasks while you focus on what really matters. Sounds cool, right? 😎✨\n",
      "\n",
      "With our AI tool, you’ll be able to:\n",
      "- **Automate repetitive tasks** 🛠️\n",
      "- **Boost productivity** 📈\n",
      "- **Generate insights faster** 💡\n",
      "- **Enhance collaboration** 🤝\n",
      "\n",
      "Whether you’re looking to streamline your workflow, gain valuable insights, or just free up some time for a well-deserved coffee break ☕, this tool has got your back!\n",
      "\n",
      "🔗 [Check it out here](#) and see how it can transform your daily grind! \n",
      "\n",
      "If you’re interested, I’d love to set up a quick chat to show you how it works. Just let me know when you’re free! \n",
      "\n",
      "Looking forward to hearing from you! 🥳\n",
      "\n",
      "Best,  \n",
      "[Your Name]  \n",
      "[Your Company]  \n",
      "[Your Contact Info]  \n",
      "\n",
      "P.S. I promise, it’s way more fun than your average tool! 😜💻\n",
      "\n",
      "=== Busy Sales Agent ===\n",
      "Subject: Transform Your Workflow with Our New AI Tool\n",
      "\n",
      "Hi [Name],\n",
      "\n",
      "I’m reaching out to introduce our new AI tool designed to streamline your processes and boost productivity. \n",
      "\n",
      "Key benefits:\n",
      "- Time savings\n",
      "- Increased accuracy\n",
      "- Easy integration\n",
      "\n",
      "Let me know if you're interested in a demo.\n",
      "\n",
      "Best,  \n",
      "[Your Name]  \n",
      "[Your Company]  \n",
      "[Your Contact Info]\n",
      "\n"
     ]
    },
    {
     "data": {
      "text/plain": [
       "[[\"Professional Sales Agent\", \"Subject: Transform Your Operations with Our New AI Tool\\n\\nDear [Recipient's Name],\\n\\nI hope this message finds you well.\\n\\nI am reaching out to introduce our latest AI tool, designed specifically to enhance operational efficiency and support data-driven decision-making for businesses like yours.\\n\\nOur solution leverages advanced algorithms to streamline workflows, reduce manual processes, and improve accuracy in data analysis. Here are some key features:\\n\\n- **Automation of Routine Tasks**: Save time and resources by automating repetitive tasks, allowing your team to focus on strategic initiatives.\\n- **Data Insights**: Gain actionable insights from your data in real-time, enabling more informed decision-making.\\n- **Scalability**: Our tool is designed to grow with your business, adapting to increasing demands without compromising performance.\\n\\nWe understand that integrating new technology can be challenging, which is why we offer comprehensive support during the onboarding process to ensure a smooth transition.\\n\\nI would appreciate the opportunity to discuss how our AI tool can address your specific challenges and contribute to your business goals. Are you available for a brief call later this week?\\n\\nThank you for considering this opportunity. I look forward to your response.\\n\\nBest regards,\\n\\n[Your Name]  \\n[Your Job Title]  \\n[Your Company]  \\n[Your Phone Number]  \\n[Your Email Address]  \"], [\"Engaging Sales Agent\", \"Subject: 🚀 Meet Your New AI Sidekick!\\n\\nHey there! 👋\\n\\nI hope this message finds you in good spirits! 🌟\\n\\nI’m super excited to introduce you to our latest creation: an AI tool that’s here to revolutionize the way you work! Imagine having a super-smart assistant right by your side, ready to tackle those tedious tasks while you focus on what really matters. Sounds cool, right? 😎✨\\n\\nWith our AI tool, you’ll be able to:\\n- **Automate repetitive tasks** 🛠️\\n- **Boost productivity** 📈\\n- **Generate insights faster** 💡\\n- **Enhance collaboration** 🤝\\n\\nWhether you’re looking to streamline your workflow, gain valuable insights, or just free up some time for a well-deserved coffee break ☕, this tool has got your back!\\n\\n🔗 [Check it out here](#) and see how it can transform your daily grind! \\n\\nIf you’re interested, I’d love to set up a quick chat to show you how it works. Just let me know when you’re free! \\n\\nLooking forward to hearing from you! 🥳\\n\\nBest,  \\n[Your Name]  \\n[Your Company]  \\n[Your Contact Info]  \\n\\nP.S. I promise, it’s way more fun than your average tool! 😜💻\"], [\"Busy Sales Agent\", \"Subject: Transform Your Workflow with Our New AI Tool\\n\\nHi [Name],\\n\\nI’m reaching out to introduce our new AI tool designed to streamline your processes and boost productivity. \\n\\nKey benefits:\\n- Time savings\\n- Increased accuracy\\n- Easy integration\\n\\nLet me know if you're interested in a demo.\\n\\nBest,  \\n[Your Name]  \\n[Your Company]  \\n[Your Contact Info]\"]]"
      ]
     },
     "execution_count": 3,
     "metadata": {},
     "output_type": "execute_result"
    }
   ],
   "source": [
    "message = \"Write a cold sales email introducing our new AI tool.\"\n",
    "\n",
    "results = []\n",
    "\n",
    "# run all agents in parallel\n",
    "Async do |task|\n",
    "  tasks = agents.map do |agent|\n",
    "    task.async { [agent.name, agent.run(message, client)] }\n",
    "  end\n",
    "\n",
    "  results = tasks.map(&:wait)\n",
    "end\n",
    "\n",
    "# display the results for testing\n",
    "results.each do |name, output|\n",
    "  puts \"=== #{name} ===\\n#{output}\\n\\n\"\n",
    "end"
   ]
  },
  {
   "cell_type": "markdown",
   "metadata": {},
   "source": [
    "## 4. Compare and Analyze Results\n",
    "\n",
    "Let's use another agent to analyze and compare the results from our three agents."
   ]
  },
  {
   "cell_type": "code",
   "execution_count": 4,
   "metadata": {},
   "outputs": [
    {
     "name": "stdout",
     "output_type": "stream",
     "text": [
      "=== Email Analysis ===\n",
      "Certainly! Let's analyze the three cold sales emails based on their style, strengths, weaknesses, and potential effectiveness.\n",
      "\n",
      "### 1. Comparison of Styles and Approaches\n",
      "\n",
      "**Professional Sales Agent:**\n",
      "- **Style:** Formal and structured. The tone is polite and professional, aimed at establishing credibility.\n",
      "- **Approach:** Focuses on the features and benefits of the product in a logical manner, using bullet points for easy scanning. Emphasizes understanding of the recipient's challenges and offers support for onboarding.\n",
      "\n",
      "**Engaging Sales Agent:**\n",
      "- **Style:** Casual and conversational. Uses emojis and informal language to create a friendly tone.\n",
      "- **Approach:** Positions the product as a fun and enriching addition to the recipient's workflow. Emphasizes the ease of use and the positive impact on productivity while encouraging further engagement through a personal touch.\n",
      "\n",
      "**Busy Sales Agent:**\n",
      "- **Style:** Concise and straightforward. It conveys information quickly without much elaboration.\n",
      "- **Approach:** Presents a brief overview of the product and its benefits without any detailed explanations, making it suitable for a reader with little time.\n",
      "\n",
      "### 2. Strengths and Weaknesses\n",
      "\n",
      "**Professional Sales Agent:**\n",
      "- **Strengths:** \n",
      "  - Comprehensive detail about the product features.\n",
      "  - Establishes a foundation of trust by offering support.\n",
      "  - Appeals to a target audience that values professionalism and thoroughness.\n",
      "- **Weaknesses:** \n",
      "  - Lengthy compared to others, which may result in lower engagement from busy recipients.\n",
      "  - May come off as too traditional or impersonal for some audiences.\n",
      "\n",
      "**Engaging Sales Agent:**\n",
      "- **Strengths:** \n",
      "  - High energy and friendly tone can captivate and engage the recipient.\n",
      "  - Use of emojis and informal language can make the communication feel relatable and fun.\n",
      "  - Encourages a sense of urgency and interest in the product.\n",
      "- **Weaknesses:**\n",
      "  - The casual tone may be perceived as unprofessional by some business audiences.\n",
      "  - Lack of detailed information about the product's functionality and how it specifically solves business problems.\n",
      "\n",
      "**Busy Sales Agent:**\n",
      "- **Strengths:** \n",
      "  - Conciseness makes it highly efficient for busy recipients.\n",
      "  - Straight to the point, minimizing reading time.\n",
      "- **Weaknesses:** \n",
      "  - Lacks depth—provides minimal information about product features or benefits.\n",
      "  - May not create enough interest to prompt a response or engagement.\n",
      "\n",
      "### 3. Most Effective Email\n",
      "\n",
      "**Most Effective Email:** **Professional Sales Agent**\n",
      "\n",
      "**Reasoning:**\n",
      "- The Professional Sales Agent's email balances professionalism with clarity, making it ideal for a business context where decision-makers are often busy and need structured information. It effectively outlines the specific benefits of the AI tool and addresses potential concerns regarding integration, which could resonate strongly with recipients looking for solutions to operational challenges. By offering a call to action in a respectful manner, it invites further conversation without being too aggressive, positioning the sender as a credible resource rather than just a salesperson.\n",
      "\n",
      "Conversely, while the Engaging Sales Agent's style might attract initial interest, its casual approach may risk alienating more traditional business figures. Meanwhile, the Busy Sales Agent's ultra-concise approach could miss the opportunity to effectively engage potential clients who need more context before considering the product.\n",
      "\n",
      "Overall, the Professional Sales Agent's email strikes a balance between thoroughness and professionalism, leading to potentially higher engagement and conversion rates in a business setting.\n"
     ]
    }
   ],
   "source": [
    "# extract all the email responses and format them for analysis\n",
    "emails = results.map { |name, content| \"#{name}:\\n\\n#{content}\" }.join(\"\\n\\n---\\n\\n\")\n",
    "\n",
    "# create a prompt to analyze the emails\n",
    "analysis_prompt = <<~PROMPT\n",
    "  Here are three cold sales emails written by different AI agents:\n",
    "\n",
    "  #{emails}\n",
    "\n",
    "  Please analyze these emails and provide:\n",
    "  1. A comparison of their styles and approaches\n",
    "  2. The strengths and weaknesses of each\n",
    "  3. Which one would likely be most effective and why\n",
    "PROMPT\n",
    "\n",
    "# Create an analyst agent\n",
    "analyst = Agent.new(\n",
    "  name: \"Email Analyst\",\n",
    "  instructions: \"You are an expert in sales and marketing communication who provides detailed, objective analysis.\",\n",
    "  model: \"gpt-4o-mini\"\n",
    ")\n",
    "\n",
    "# Run the analysis\n",
    "analysis = analyst.run(analysis_prompt, client)\n",
    "\n",
    "puts \"=== Email Analysis ===\\n#{analysis}\""
   ]
  },
  {
   "cell_type": "markdown",
   "metadata": {},
   "source": [
    "## 5. Advanced: Create a Custom Agent Factory\n",
    "\n",
    "Let's create a factory method to generate different types of agents more easily."
   ]
  },
  {
   "cell_type": "code",
   "execution_count": 5,
   "metadata": {},
   "outputs": [
    {
     "name": "stdout",
     "output_type": "stream",
     "text": [
      "Created agent: Professional Agent\n",
      "Created agent: Creative Agent\n",
      "Created agent: Technical Agent\n",
      "Created agent: Empathetic Agent\n"
     ]
    },
    {
     "data": {
      "text/plain": [
       "[#<#<Class:0x00007fb278326ea0>::Agent:0x00007fb276e93830 @name=\"Professional Agent\", @instructions=\"You are a very professional and formal business communicator.\", @model=\"gpt-4o-mini\">, #<#<Class:0x00007fb278326ea0>::Agent:0x00007fb276e93678 @name=\"Creative Agent\", @instructions=\"You are a highly creative and imaginative communicator who thinks outside the box.\", @model=\"gpt-4o-mini\">, #<#<Class:0x00007fb278326ea0>::Agent:0x00007fb276e93308 @name=\"Technical Agent\", @instructions=\"You are a technical expert who focuses on precise details and specifications.\", @model=\"gpt-4o-mini\">, #<#<Class:0x00007fb278326ea0>::Agent:0x00007fb276e93178 @name=\"Empathetic Agent\", @instructions=\"You are an empathetic communicator who focuses on emotional connection and understanding.\", @model=\"gpt-4o-mini\">]"
      ]
     },
     "execution_count": 5,
     "metadata": {},
     "output_type": "execute_result"
    }
   ],
   "source": [
    "def create_agent(type, model: \"gpt-4o-mini\")\n",
    "  case type\n",
    "  when :professional\n",
    "    Agent.new(\n",
    "      name: \"Professional Agent\",\n",
    "      instructions: \"You are a very professional and formal business communicator.\",\n",
    "      model: model\n",
    "    )\n",
    "  when :creative\n",
    "    Agent.new(\n",
    "      name: \"Creative Agent\",\n",
    "      instructions: \"You are a highly creative and imaginative communicator who thinks outside the box.\",\n",
    "      model: model\n",
    "    )\n",
    "  when :technical\n",
    "    Agent.new(\n",
    "      name: \"Technical Agent\",\n",
    "      instructions: \"You are a technical expert who focuses on precise details and specifications.\",\n",
    "      model: model\n",
    "    )\n",
    "  when :empathetic\n",
    "    Agent.new(\n",
    "      name: \"Empathetic Agent\",\n",
    "      instructions: \"You are an empathetic communicator who focuses on emotional connection and understanding.\",\n",
    "      model: model\n",
    "    )\n",
    "  else\n",
    "    raise \"Unknown agent type: #{type}\"\n",
    "  end\n",
    "end\n",
    "\n",
    "new_agents = [:professional, :creative, :technical, :empathetic].map do |type|\n",
    "  create_agent(type)\n",
    "end\n",
    "\n",
    "new_agents.each do |agent|\n",
    "  puts \"Created agent: #{agent.name}\"\n",
    "end"
   ]
  },
  {
   "cell_type": "code",
   "execution_count": null,
   "metadata": {},
   "outputs": [],
   "source": []
  }
 ],
 "metadata": {
  "kernelspec": {
   "display_name": "Ruby 3 (iruby kernel)",
   "language": "ruby",
   "name": "ruby3"
  },
  "language_info": {
   "file_extension": ".rb",
   "mimetype": "application/x-ruby",
   "name": "ruby",
   "version": "3.2.8"
  }
 },
 "nbformat": 4,
 "nbformat_minor": 2
}
