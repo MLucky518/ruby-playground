{
 "cells": [
  {
   "cell_type": "code",
   "execution_count": null,
   "id": "472b992a",
   "metadata": {
    "vscode": {
     "languageId": "plaintext"
    }
   },
   "outputs": [],
   "source": [
    "require \"openai\"\n",
    "client = OpenAI::Client.new\n",
    "\n",
    "response = client.chat(\n",
    "  parameters: {\n",
    "    model: \"gpt-4o-mini\",\n",
    "    messages: [{role: \"user\", content: \"Hello from Ruby!\"}]\n",
    "  }\n",
    ")\n",
    "\n",
    "puts response.dig(\"choices\", 0, \"message\", \"content\")\n"
   ]
  }
 ],
 "metadata": {
  "language_info": {
   "name": "python"
  }
 },
 "nbformat": 4,
 "nbformat_minor": 5
}
