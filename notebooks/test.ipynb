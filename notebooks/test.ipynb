{
 "cells": [
  {
   "cell_type": "code",
   "execution_count": null,
   "id": "472b992a",
   "metadata": {
    "vscode": {
     "languageId": "plaintext"
    }
   },
   "outputs": [],
   "source": [
    "require \"openai\"\n",
    "client = OpenAI::Client.new\n",
    "\n",
    "response = client.chat(\n",
    "  parameters: {\n",
    "    model: \"gpt-4o-mini\",\n",
    "    messages: [{role: \"user\", content: \"Hello from Ruby!\"}]\n",
    "  }\n",
    ")\n",
    "\n",
    "puts response.dig(\"choices\", 0, \"message\", \"content\")\n"
   ]
  },
  {
   "cell_type": "code",
   "execution_count": null,
   "id": "95a09119-938c-4b5f-8193-2eeb4b5b3592",
   "metadata": {},
   "outputs": [],
   "source": [
    "require \"bundler/inline\"\n",
    "\n",
    "gemfile do\n",
    "  source \"https://rubygems.org\"\n",
    "\n",
    "  gem \"dotenv\", require: \"dotenv/load\"\n",
    "  gem \"ruby-openai\"\n",
    "end"
   ]
  },
  {
   "cell_type": "code",
   "execution_count": null,
   "id": "013b650b-941e-4a8d-b753-6b6f1a5f8b1c",
   "metadata": {},
   "outputs": [],
   "source": []
  },
  {
   "cell_type": "code",
   "execution_count": null,
   "id": "6d0dcca9-2885-4fdf-bca6-b00fecbac33e",
   "metadata": {},
   "outputs": [],
   "source": []
  }
 ],
 "metadata": {
  "kernelspec": {
   "display_name": "Ruby 3 (iruby kernel)",
   "language": "ruby",
   "name": "ruby3"
  },
  "language_info": {
   "codemirror_mode": {
    "name": "ipython",
    "version": 3
   },
   "file_extension": ".py",
   "mimetype": "text/x-python",
   "name": "python",
   "nbconvert_exporter": "python",
   "pygments_lexer": "ipython3",
   "version": "3.11.2"
  }
 },
 "nbformat": 4,
 "nbformat_minor": 5
}
